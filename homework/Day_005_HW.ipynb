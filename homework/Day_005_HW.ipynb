{
  "nbformat": 4,
  "nbformat_minor": 0,
  "metadata": {
    "colab": {
      "name": "Day_005_HW.ipynb",
      "provenance": [],
      "collapsed_sections": []
    },
    "kernelspec": {
      "name": "python3",
      "display_name": "Python 3"
    }
  },
  "cells": [
    {
      "cell_type": "code",
      "metadata": {
        "id": "SRRrJxt59dMu",
        "colab_type": "code",
        "colab": {}
      },
      "source": [
        "import numpy as np\n",
        "import pandas as pd\n",
        "import cv2\n",
        "'''\n",
        "Day5-1 作業\n",
        "\n",
        "在小量的資料上，我們用眼睛就可以看得出來程式碼是否有跑出我們理想中的結果。請嘗試想像一個你需要的資料結構 (裡面的值是隨機的)，然後用程式碼範例的方法把它變成 DataFrame\n",
        "'''\n",
        "dates=pd.date_range('20200305',periods=5,freq='2D')  #從20200305開始，兩天間隔，五天期間\n",
        "com_list=['CompanyA','CompanyB']\n",
        "df=pd.DataFrame(np.random.randn(5,2),index=dates,columns=com_list)\n",
        "print(df)\n",
        "\n",
        "\n",
        "'''\n",
        "1.1. 讀取 txt 檔, 請讀取 text file\n",
        "\n",
        "https://raw.githubusercontent.com/vashineyu/slides_and_others/master/tutorial/examples/imagenet_urls_examples.txt\n",
        "\n",
        "1.2 將所提供的 txt 轉成 pandas dataframe\n",
        "\n",
        "2. 從所提供的 txt 中的連結讀取圖片，請讀取上面 data frame 中的前 5 張圖片\n",
        "'''\n",
        "data=pd.read_table('marathon\\day005_imagenet_urls_examples.txt',header=None)\n",
        "\n",
        "\n",
        "# catch one picture\n",
        "img_ = cv2.imread('marathon\\eagle.jpg')\n",
        "cv2.imshow(\"image\",img_)\n",
        "cv2.waitKey()\n",
        "\n",
        "\n",
        "# use url to catch top 5 picture\n",
        " \n",
        "#for url_ in data[0:5][1]:\n",
        "#    cap=cv2.VideoCapture(url_)\n",
        "#    if( cap.isOpened() ) :\n",
        "#        ret,img = cap.read()\n",
        "#        cv2.imshow(\"image\",img)\n",
        "#        cv2.waitKey()\n"
      ],
      "execution_count": 0,
      "outputs": []
    }
  ]
}