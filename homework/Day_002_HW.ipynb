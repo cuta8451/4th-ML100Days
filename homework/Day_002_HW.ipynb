{
  "nbformat": 4,
  "nbformat_minor": 0,
  "metadata": {
    "kernelspec": {
      "display_name": "Python 3",
      "language": "python",
      "name": "python3"
    },
    "language_info": {
      "codemirror_mode": {
        "name": "ipython",
        "version": 3
      },
      "file_extension": ".py",
      "mimetype": "text/x-python",
      "name": "python",
      "nbconvert_exporter": "python",
      "pygments_lexer": "ipython3",
      "version": "3.6.6"
    },
    "colab": {
      "name": "Day_002_HW.ipynb",
      "provenance": [],
      "collapsed_sections": []
    }
  },
  "cells": [
    {
      "cell_type": "markdown",
      "metadata": {
        "id": "igeK28fCsQEi",
        "colab_type": "text"
      },
      "source": [
        "## [作業目標]\n",
        "了解機器學習適合應用的領域與範疇。"
      ]
    },
    {
      "cell_type": "markdown",
      "metadata": {
        "id": "INMwT4LJsQEn",
        "colab_type": "text"
      },
      "source": [
        "## [作業重點]\n",
        "透過瞭解機器學習的運作方式，找出非常適用機器學習應用的領域及其原因"
      ]
    },
    {
      "cell_type": "markdown",
      "metadata": {
        "id": "BtkDwDCFsQEp",
        "colab_type": "text"
      },
      "source": [
        "## 作業\n",
        "請找出一個你認為機器學習可以發光發熱的領域並闡述原因? \n",
        "\n",
        "##作業回答\n",
        "\n",
        "在老人居家照護上,例如:跌倒、表情偵測,透過大量的圖片去訓練機器人辨識跌倒跟表情,在實際應用上就可以透過影像監控去看家中老人的生活情況。\n",
        "\n",
        "在聲音上,透過例如睡眠、聲音情緒的偵測,監控老人的睡眠品質與日常生活的情緒。\n",
        "\n",
        "對於工作繁忙而有時無法回家的子女們,在有意外發生時,可以馬上知道狀況立即處理,而不是等左右鄰居送菜發現緊急情況幫忙送醫,透過醫院連絡才知道意外發生。"
      ]
    },
    {
      "cell_type": "code",
      "metadata": {
        "id": "lox6e7chsQEr",
        "colab_type": "code",
        "colab": {}
      },
      "source": [
        "   "
      ],
      "execution_count": 0,
      "outputs": []
    }
  ]
}